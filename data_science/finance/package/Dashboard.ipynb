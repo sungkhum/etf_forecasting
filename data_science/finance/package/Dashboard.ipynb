{
 "cells": [
  {
   "cell_type": "code",
   "execution_count": 1,
   "metadata": {
    "extensions": {
     "jupyter_dashboards": {
      "version": 1,
      "views": {
       "grid_default": {},
       "report_default": {
        "hidden": true
       }
      }
     }
    }
   },
   "outputs": [
    {
     "data": {
      "text/html": [
       "<script>requirejs.config({paths: { 'plotly': ['https://cdn.plot.ly/plotly-latest.min']},});if(!window.Plotly) {{require(['plotly'],function(plotly) {window.Plotly=plotly;});}}</script>"
      ],
      "text/vnd.plotly.v1+html": [
       "<script>requirejs.config({paths: { 'plotly': ['https://cdn.plot.ly/plotly-latest.min']},});if(!window.Plotly) {{require(['plotly'],function(plotly) {window.Plotly=plotly;});}}</script>"
      ]
     },
     "metadata": {},
     "output_type": "display_data"
    }
   ],
   "source": [
    "import pandas as pd\n",
    "from bqplot import ColorScale, ColorAxis, DateScale, LinearScale, Axis, Lines, Figure\n",
    "from plotly.offline import download_plotlyjs, init_notebook_mode, plot, iplot\n",
    "import plotly.graph_objs as go\n",
    "init_notebook_mode(connected=True)\n",
    "from ipywidgets import Label, VBox, HBox, Layout, Accordion, Dropdown, widgets, interact, Button, Output\n",
    "from bqplot.market_map import MarketMap\n",
    "import os\n",
    "from datetime import datetime\n",
    "from iexfinance.stocks import get_historical_data\n",
    "import numpy as np\n",
    "import matplotlib.pyplot as plt\n",
    "from pandas import Series\n",
    "import warnings\n",
    "from IPython.display import clear_output\n",
    "warnings.simplefilter(\"ignore\", DeprecationWarning)"
   ]
  },
  {
   "cell_type": "markdown",
   "metadata": {
    "extensions": {
     "jupyter_dashboards": {
      "version": 1,
      "views": {
       "grid_default": {},
       "report_default": {
        "hidden": true
       }
      }
     }
    }
   },
   "source": [
    "## RETRIEVE AND CLEAN DATA"
   ]
  },
  {
   "cell_type": "code",
   "execution_count": 94,
   "metadata": {
    "extensions": {
     "jupyter_dashboards": {
      "version": 1,
      "views": {
       "grid_default": {},
       "report_default": {
        "hidden": true
       }
      }
     }
    }
   },
   "outputs": [],
   "source": [
    "etf_data = pd.read_excel('../us_etfs.xlsx').drop_duplicates()\n",
    "etf_data.columns = [i.lower() for i in etf_data.columns]\n",
    "etf_list = list(etf_data['ticker'])\n",
    "def get_iex_data(stock_list, start, end):\n",
    "    return_list = []\n",
    "    for i in stock_list:\n",
    "        df = pd.DataFrame(get_historical_data(i, start, end, output_format='pandas')).interpolate()\n",
    "        df['ticker'] = i\n",
    "        return_list.append(df)\n",
    "    return return_list"
   ]
  },
  {
   "cell_type": "code",
   "execution_count": 162,
   "metadata": {
    "extensions": {
     "jupyter_dashboards": {
      "version": 1,
      "views": {
       "grid_default": {},
       "report_default": {
        "hidden": true
       }
      }
     }
    },
    "scrolled": true
   },
   "outputs": [],
   "source": [
    "# full = get_iex_data(etf_list, start=None, end=None)"
   ]
  },
  {
   "cell_type": "code",
   "execution_count": 97,
   "metadata": {
    "extensions": {
     "jupyter_dashboards": {
      "version": 1,
      "views": {
       "grid_default": {},
       "report_default": {
        "hidden": true
       }
      }
     }
    }
   },
   "outputs": [],
   "source": [
    "def lstm_clean_data(data):\n",
    "    for i in range(len(data)):\n",
    "        data[i] = data[i].reset_index().dropna()\n",
    "        data[i]['date'] = pd.to_datetime(data[i]['date'])\n",
    "        data[i] = data[i].set_index('date')\n",
    "        data[i]['Reg_Target'] = data[i]['close'].shift(-1)\n",
    "    return data\n",
    "\n",
    "def add_past(etf_list, times):\n",
    "    for i in range(len(etf_list)):\n",
    "        for n in times:\n",
    "            etf_list[i]['{}day return'.format(n)] = -etf_list[i]['close'].diff(periods=n).round(3)\n",
    "    return etf_list"
   ]
  },
  {
   "cell_type": "code",
   "execution_count": 98,
   "metadata": {
    "extensions": {
     "jupyter_dashboards": {
      "version": 1,
      "views": {
       "grid_default": {},
       "report_default": {
        "hidden": true
       }
      }
     }
    }
   },
   "outputs": [],
   "source": [
    "clean_full = lstm_clean_data(full)\n",
    "data = add_past(clean_full, [1, 5, 21, 252])\n",
    "# inp = add_past(clean_full, [1,2,3,4,5])"
   ]
  },
  {
   "cell_type": "markdown",
   "metadata": {
    "extensions": {
     "jupyter_dashboards": {
      "version": 1,
      "views": {
       "grid_default": {},
       "report_default": {
        "hidden": true
       }
      }
     }
    }
   },
   "source": [
    "## RUN MODELS"
   ]
  },
  {
   "cell_type": "code",
   "execution_count": 7,
   "metadata": {
    "extensions": {
     "jupyter_dashboards": {
      "version": 1,
      "views": {
       "grid_default": {},
       "report_default": {
        "hidden": true
       }
      }
     }
    }
   },
   "outputs": [
    {
     "name": "stderr",
     "output_type": "stream",
     "text": [
      "/anaconda3/lib/python3.6/site-packages/h5py/__init__.py:36: FutureWarning:\n",
      "\n",
      "Conversion of the second argument of issubdtype from `float` to `np.floating` is deprecated. In future, it will be treated as `np.float64 == np.dtype(float).type`.\n",
      "\n",
      "Using TensorFlow backend.\n"
     ]
    }
   ],
   "source": [
    "from keras.models import Sequential\n",
    "from keras.layers import Activation, Dense, LSTM, Dropout\n",
    "from sklearn.preprocessing import MinMaxScaler\n",
    "import timeit"
   ]
  },
  {
   "cell_type": "code",
   "execution_count": 8,
   "metadata": {
    "extensions": {
     "jupyter_dashboards": {
      "version": 1,
      "views": {
       "grid_default": {},
       "report_default": {
        "hidden": true
       }
      }
     }
    }
   },
   "outputs": [],
   "source": [
    "def lstm_time_test_split(X, n_past, date):\n",
    "    X = X.reset_index()\n",
    "    scaler = MinMaxScaler()\n",
    "    y_scaler = MinMaxScaler()\n",
    "    ticker = X['ticker'].iloc[0]\n",
    "    x_train = X[X['date'] < date].drop(columns=['date', 'Reg_Target', 'ticker', '1day return', '5day return', '21day return', '252day return'])\n",
    "    scaler.fit(x_train)\n",
    "    x_test = X[X['date'] >= date].drop(columns=['date', 'Reg_Target', 'ticker', '1day return', '5day return', '21day return', '252day return'])[:-1]\n",
    "    x_train = scaler.transform(x_train)\n",
    "    x_train = np.reshape(x_train,(x_train.shape[0], n_past, x_train.shape[1]))\n",
    "    x_test = scaler.transform(x_test)\n",
    "    x_test = np.reshape(x_test,(x_test.shape[0], n_past, x_test.shape[1]))\n",
    "    y_train = np.array(X[X['date'] < date]['Reg_Target'].drop(columns='date')).ravel().astype('float').reshape(-1,1)\n",
    "    y_scaler.fit(y_train)\n",
    "    y_train = y_scaler.transform(y_train)\n",
    "    y_test = np.array(X[X['date'] >= date]['Reg_Target'].drop(columns='date')).ravel().astype('float')[:-1].reshape(-1,1)\n",
    "    y_test = y_scaler.transform(y_test)\n",
    "    x_holdout = X[X['date'] >= date].drop(columns=['date', 'Reg_Target', 'ticker', '1day return', '5day return', '21day return', '252day return'])[-1:]\n",
    "    x_holdout = scaler.transform(x_holdout)\n",
    "    x_holdout = np.reshape(x_holdout,(x_holdout.shape[0], n_past, x_holdout.shape[1]))\n",
    "#     y_test = scaler.transform(y_test)\n",
    "    return ticker, x_train, x_test, x_holdout, y_train, y_test, scaler, y_scaler\n",
    "\n",
    "def build_step_model(x_train, y_train, epoc):\n",
    "    model = Sequential()\n",
    "    model.add(LSTM(50, input_shape=(x_train.shape[1], x_train.shape[2]), return_sequences=True))\n",
    "    model.add(Dropout(0.2))\n",
    "    model.add(LSTM(100, return_sequences=False))\n",
    "    model.add(Dropout(0.2))\n",
    "    model.add(Dense(1))\n",
    "    model.add(Activation('relu'))\n",
    "    model.compile(loss='mse', optimizer='adam')\n",
    "    history = model.fit(x_train, y_train, epochs=epoc, batch_size=64, validation_split=.07, verbose=2,shuffle=False)\n",
    "    return model, history\n",
    "\n",
    "def yield_preds(model, scaler, x_test, x_holdout, y_test):\n",
    "    yhat = model.predict(x_test)\n",
    "    preds = scaler.inverse_transform(yhat)\n",
    "    true = scaler.inverse_transform(y_test)\n",
    "    today = model.predict(x_holdout)\n",
    "    today_pred = scaler.inverse_transform(today)\n",
    "    return preds, today_pred\n",
    "\n",
    "def run_all_lstms(data, split, epoc):\n",
    "    out = pd.DataFrame()\n",
    "    tomorrow = pd.DataFrame()\n",
    "    start = timeit.default_timer()\n",
    "    for i in range(len(data)):\n",
    "        ticker, x_train, x_test, x_holdout, y_train, y_test, scaler, y_scaler = lstm_time_test_split(data[i], 1, split)\n",
    "        print('Model #: {}'.format(i))\n",
    "        model, history = build_step_model(x_train, y_train, epoc)\n",
    "        preds, future = yield_preds(model, y_scaler, x_test, x_holdout, y_test)\n",
    "        out[ticker] = preds.flatten()\n",
    "        tomorrow[ticker] = future.flatten()\n",
    "    out = out.set_index(data[0][-len(out):].index)\n",
    "    stop = timeit.default_timer()\n",
    "    print('Time: ', stop - start)\n",
    "    return out, tomorrow"
   ]
  },
  {
   "cell_type": "markdown",
   "metadata": {
    "extensions": {
     "jupyter_dashboards": {
      "version": 1,
      "views": {
       "grid_default": {},
       "report_default": {
        "hidden": true
       }
      }
     }
    }
   },
   "source": [
    "## MAKE DASHBOARD INPUTS"
   ]
  },
  {
   "cell_type": "code",
   "execution_count": 99,
   "metadata": {
    "extensions": {
     "jupyter_dashboards": {
      "version": 1,
      "views": {
       "grid_default": {},
       "report_default": {
        "hidden": true
       }
      }
     }
    }
   },
   "outputs": [],
   "source": [
    "def make_yesterday_mapframe(ref):\n",
    "    yesterday_inputs = pd.DataFrame([ref[i].reset_index().iloc[-1] for i in range(len(ref))])\n",
    "    mapframe = pd.merge(etf_data, yesterday_inputs, on='ticker').drop(columns = 'Reg_Target')\n",
    "    return mapframe"
   ]
  },
  {
   "cell_type": "code",
   "execution_count": 117,
   "metadata": {
    "extensions": {
     "jupyter_dashboards": {
      "version": 1,
      "views": {
       "grid_default": {},
       "report_default": {
        "hidden": true
       }
      }
     }
    }
   },
   "outputs": [],
   "source": [
    "mapframe_y = make_yesterday_mapframe(data)\n",
    "mapframe_y.columns = ['ticker','Fund Name','Issuer','Expense Ratio','Total Assets','spread (%)','Segment','date','Open','High','Low','Previous Close',\n",
    "                    'volume','1 Day return', '1 Week return', '1 Month return','1 Year return']"
   ]
  },
  {
   "cell_type": "code",
   "execution_count": 102,
   "metadata": {
    "extensions": {
     "jupyter_dashboards": {
      "version": 1,
      "views": {
       "grid_default": {},
       "report_default": {
        "hidden": true
       }
      }
     }
    },
    "scrolled": true
   },
   "outputs": [],
   "source": [
    "def make_daily_mapframe(ref, value):\n",
    "    mapframe = pd.DataFrame()\n",
    "    for i in range(len(ref)):\n",
    "        ticker = ref[i]['ticker'].iloc[0]\n",
    "        mapframe[ticker] = ref[i][value]\n",
    "#     mapframe = mapframe.set_index(ref[0]['date']) \n",
    "    return mapframe"
   ]
  },
  {
   "cell_type": "code",
   "execution_count": 103,
   "metadata": {
    "extensions": {
     "jupyter_dashboards": {
      "version": 1,
      "views": {
       "grid_default": {},
       "report_default": {
        "hidden": true
       }
      }
     }
    }
   },
   "outputs": [],
   "source": [
    "mapframe_daily_close = make_daily_mapframe(data, 'close')"
   ]
  },
  {
   "cell_type": "code",
   "execution_count": 123,
   "metadata": {
    "extensions": {
     "jupyter_dashboards": {
      "version": 1,
      "views": {
       "grid_default": {},
       "report_default": {
        "hidden": true
       }
      }
     }
    }
   },
   "outputs": [],
   "source": [
    "df = [i for i in full if etf_list in list(i['ticker'])]"
   ]
  },
  {
   "cell_type": "code",
   "execution_count": 13,
   "metadata": {
    "extensions": {
     "jupyter_dashboards": {
      "version": 1,
      "views": {
       "grid_default": {},
       "report_default": {
        "hidden": true
       }
      }
     }
    }
   },
   "outputs": [],
   "source": [
    "mapframe_preds = pd.read_csv('important_backup.csv').set_index('date')"
   ]
  },
  {
   "cell_type": "code",
   "execution_count": 126,
   "metadata": {
    "extensions": {
     "jupyter_dashboards": {
      "version": 1,
      "views": {
       "grid_default": {},
       "report_default": {
        "hidden": false
       }
      }
     }
    },
    "scrolled": false
   },
   "outputs": [
    {
     "data": {
      "application/vnd.jupyter.widget-view+json": {
       "model_id": "bf839b8bf6444d7cbd0c06a110377f7e",
       "version_major": 2,
       "version_minor": 0
      },
      "text/html": [
       "<p>Failed to display Jupyter Widget of type <code>interactive</code>.</p>\n",
       "<p>\n",
       "  If you're reading this message in the Jupyter Notebook or JupyterLab Notebook, it may mean\n",
       "  that the widgets JavaScript is still loading. If this message persists, it\n",
       "  likely means that the widgets JavaScript library is either not installed or\n",
       "  not enabled. See the <a href=\"https://ipywidgets.readthedocs.io/en/stable/user_install.html\">Jupyter\n",
       "  Widgets Documentation</a> for setup instructions.\n",
       "</p>\n",
       "<p>\n",
       "  If you're reading this message in another frontend (for example, a static\n",
       "  rendering on GitHub or <a href=\"https://nbviewer.jupyter.org/\">NBViewer</a>),\n",
       "  it may mean that your frontend doesn't currently support widgets.\n",
       "</p>\n"
      ],
      "text/plain": [
       "interactive(children=(Dropdown(description='ticker', options=('SPY', 'IVV', 'VTI', 'VOO', 'VEA', 'QQQ', 'EFA', 'IEFA', 'AGG', 'VWO', 'IJH', 'IWM', 'IEMG', 'IJR', 'VTV', 'IWF', 'IWD', 'BND', 'VUG', 'LQD', 'XLF', 'VNQ', 'VIG', 'GLD', 'EEM', 'BSV', 'TIP', 'VB', 'VO', 'DIA', 'VEU', 'VYM', 'VCSH', 'IVW', 'VGT', 'XLK', 'MDY', 'VCIT', 'XLV', 'XLE', 'IWB', 'IWR', 'EWJ', 'DVY', 'USMV', 'SCHF', 'SDY', 'PFF', 'VGK', 'RSP', 'SHV', 'ITOT', 'IVE', 'EMB', 'SCHX', 'XLY', 'SHY', 'HYG', 'VBR', 'VV', 'SCHB', 'BIV', 'BNDX', 'MBB', 'FLOT', 'XLI', 'VT', 'IXUS', 'MINT', 'IWS', 'VXUS', 'IAU', 'IGSB', 'MTUM', 'AMLP', 'MUB', 'IWO', 'SCZ', 'IWN', 'GDX', 'IEF', 'XLP', 'VOE', 'IBB', 'EFAV', 'IWP', 'EZU', 'VHT', 'IWV', 'ACWI', 'TLT', 'JNK', 'VBK', 'FDN', 'VFH', 'SCHD', 'SCHA', 'BKLN', 'IJK', 'XLU', 'IEI', 'SPLV', 'VMBS', 'QUAL', 'GOVT', 'EWZ', 'SCHG', 'IJT', 'VXF', 'IJS', 'HDV', 'SCHP', 'IJJ', 'ITA', 'IGIB', 'EFV', 'VTIP', 'GUNR', 'DBEF', 'DXJ', 'VOT', 'VNQI', 'SCHZ', 'VSS', 'PRF', 'IUSG', 'XBI', 'SCHM', 'PGX', 'NEAR', 'SLV', 'HEDJ', 'KRE', 'OEF', 'SCHV', 'FXI', 'FNDX', 'GDXJ', 'SPSB', 'EEMV', 'SCHH', 'SCHE', 'IUSV', 'CWB', 'EMLC', 'DGRO', 'FVD', 'IDV', 'FLRN', 'INDA', 'VDE', 'BIL', 'VDC', 'IYW', 'FNDF', 'VPL', 'MGK', 'PCY', 'XLB', 'GSLC', 'VIS', 'SPIB', 'TQQQ', 'SHM', 'SJNK', 'IYR', 'NOBL', 'VTEB', 'EFG', 'EWY', 'SPYG', 'SRLN', 'VLUE', 'AAXJ', 'FPE', 'EWT', 'KBE', 'FNDA', 'SPDW', 'DON', 'HEFA', 'VGSH', 'ACWV', 'FBT', 'SHYG', 'SPAB', 'MCHI', 'TOTL', 'XOP', 'SCHR', 'FEZ', 'SCHO', 'EWG', 'VCR', 'RWX', 'VPU', 'ACWX', 'TFI', 'EWC', 'AMJ', 'FTSM', 'XLC', 'VGIT', 'DBC', 'JPST', 'IGF', 'PDBC', 'SPHD', 'FV', 'IHI', 'HYD', 'SPTM', 'IEUR', 'XLRE', 'IXN', 'RWR', 'VCLT', 'VAW', 'SSO', 'EWH', 'IYH', 'RPG', 'FTEC', 'GBIL', 'IUSB', 'QTEC', 'DGRW', 'XT', 'ISTB', 'IEV', 'EMLP', 'STIP', 'RWO', 'EPP', 'VOOG', 'SDOG', 'USIG', 'BLV', 'SCHC', 'VRP', 'FNDE', 'DES', 'MGV', 'VONG', 'GVI', 'FXL', 'FLGE', 'PRFZ', 'IGV', 'BBJP', 'DLN', 'SPYV', 'BOND', 'SLYG', 'SKYY', 'FTSL', 'IOO', 'ONEQ', 'ICF', 'FNDC', 'BOTZ', 'QLD', 'EWU', 'DEM', 'ROBO', 'QDF', 'IYF', 'DLS', 'USO', 'SUB', 'LMBS', 'SLYV', 'TDTT', 'IXJ', 'TBT', 'HYS', 'GSY', 'FXR', 'VONV', 'ITM', 'HACK', 'IYG', 'SPLG', 'PZA', 'RYT', 'GEM', 'XAR', 'MLPI', 'FAS', 'JPIN', 'MOAT', 'USMC', 'VTWO', 'IXC', 'HEZU', 'PDP', 'FIYY', 'FBGX', 'GNR', 'MGC', 'FHLC', 'PGF', 'FEX', 'IGM', 'SH', 'CWI', 'IPE', 'FDL', 'RSX', 'FIHD', 'XMLV', 'SLQD', 'FNCL', 'GSG', 'SPSM', 'BBCA', 'SPEM', 'NUGT', 'EPI', 'SOXX', 'SMH', 'XSLV', 'FXH', 'PXF', 'BSCK', 'SPHQ', 'BBEU', 'PWV', 'TILT', 'UPRO', 'HYLS', 'PTLC', 'VOX', 'DGS', 'MDYG', 'ILF', 'KWEB', 'REET', 'LRGF', 'PKW', 'EWA', 'IHF', 'ARKK', 'BSCJ', 'DSI', 'OIH', 'FTCS', 'QAI', 'REM', 'IYY', 'PSCH', 'IWY', 'BSJJ', 'FTA', 'EZM', 'EUFN', 'SPTL', 'ANGL', 'SLY', 'FDT', 'GSIE', 'CMF', 'FXO', 'FPX', 'HEWJ', 'AOR', 'CFO', 'BWX', 'VXX', 'PXH', 'EWL', 'EWW', 'SPMD', 'BSCL', 'VWOB', 'DFJ', 'IYE', 'INTF', 'TLTD', 'IWC', 'IYJ', 'VIOO', 'JKE', 'DBEU', 'PPA', 'PHB', 'RDIV', 'RWL', 'DBJP', 'BSJK', 'JKD', 'RPV', 'MLPA', 'SDIV', 'DHS', 'GXC', 'FTC', 'IGE', 'TDTF', 'DJP', 'AIA', 'ITB', 'IYC', 'VONE', 'VYMI', 'MDYV', 'EWP', 'IVOO', 'TDIV', 'AOM', 'ASHR', 'DFE', 'BAB', 'IDEV', 'IAGG', 'FNX', 'XNTK', 'SDS', 'IGOV', 'BSCM', 'AOA', 'IPAC', 'KBWB', 'DWM', 'VIGI', 'RODM', 'VOOV', 'JNUG', 'IBDM', 'SPXL', 'CDC', 'CSM', 'DWX', 'STPZ', 'GWX', 'EWQ', 'MOO', 'PHO', 'CORP', 'IQDF', 'DTN', 'FEP', 'IBDL', 'UYG', 'SGOL', 'IVOG', 'LIT', 'NFRA', 'TNA', 'COMT', 'PEY', 'CIBR', 'KIE', 'IYT', 'XLG', 'SUSA', 'IAT', 'PID', 'USRT', 'TVIX', 'EES', 'MJ', 'FYX', 'RYH', 'SQQQ', 'NANR', 'INDY', 'SPYD', 'JKG', 'PCEF', 'FDIS', 'XHE', 'XME', 'IVOV', 'IFV', 'IBDK', 'GDVD', 'BSCI', 'VNLA', 'VGLT', 'RDVY', 'FFEU', 'MDIV', 'XRT', 'MNA', 'XHB', 'TECL', 'PSK', 'PWB', 'CFA', 'AMZA', 'JHML', 'IDU', 'PTMC', 'DTD', 'USCI', 'ITE', 'IYM', 'SOXL', 'VIDI', 'SNLN', 'BBAX', 'JHMM', 'LVHD', 'KXI', 'IGLB', 'VUSE', 'FLTR', 'RFG', 'FENY', 'BSJI', 'TLH', 'ICSH', 'DBA', 'CGW', 'EBND', 'PNQI', 'JPUS', 'EDV', 'FVC', 'SPTS', 'TBF', 'PJP', 'FREL', 'MLPX', 'EWM', 'HYMB', 'PFXF', 'IGHG', 'ARKW', 'RFDI', 'IDLV', 'QQEW', 'IEO', 'IBDN', 'TLTE', 'CRBN', 'EWS', 'VBND', 'URTH', 'UUP', 'PPLT', 'HFXI', 'IYK', 'RHS', 'RWJ', 'FM', 'EMHY', 'BSJL', 'PSQ', 'SPXU', 'LABU', 'FIEE', 'DGAZ', 'FIDU', 'IPAY', 'CSML', 'VIOG', 'SCHK', 'IBDO', 'ERUS', 'CLTL', 'FEM', 'ONEO', 'IYZ', 'THD', 'IHDG', 'FGD', 'FFTY', 'FXN', 'FMB', 'AOK', 'ATMP', 'IXG', 'EQAL', 'TUR', 'UDOW', 'WIP', 'ONEV', 'IFGL', 'JKI', 'IHE', 'EWX', 'FBND', 'BBH', 'VRIG', 'SMDV', 'FDD', 'LEMB', 'BSCN', 'USFR', 'MORL', 'IBUY', 'CLRG', 'DMRL', 'AGGY', 'FYC', 'JKL', 'DIV', 'ECON', 'DBO', 'ONEY', 'GMF', 'KBWY', 'SECT', 'REGL', 'ECH', 'DDM', 'JKF', 'DOL', 'HYGH', 'OUSA', 'XES', 'FXD', 'DVYE', 'QYLD', 'DWAS', 'VTHR', 'EEMA', 'PSCT', 'AGZ', 'ULVM', 'UGAZ', 'FUTY', 'ROM', 'SVXY', 'WOOD', 'RYF', 'EDIV', 'VIOV', 'FDRR', 'FINX', 'FLQL', 'PICK', 'QABA', 'ESGD', 'EZA', 'RWK', 'UNG', 'UVXY', 'QID', 'SHE', 'UCO', 'BRZU', 'SPLB', 'SPXS', 'EIDO', 'PSC', 'XPH', 'ERX', 'MFEM', 'VNM', 'GLTR', 'CQQQ', 'IBDH', 'PBP', 'TZA', 'SIL', 'IWX', 'SCJ', 'IBDQ', 'GIGB', 'BIB', 'FIW', 'TMV', 'TIPX', 'EMQQ', 'FSTA', 'FIXD', 'URA', 'RYE', 'KBWD', 'QDEF', 'HEEM', 'BSCO', 'ESGE', 'SIVR', 'CMBS', 'PTNQ', 'IEZ', 'RZG', 'NYF', 'EWI', 'REZ', 'KBA', 'IYLD', 'FXG', 'IBMI', 'FTXO', 'YLD', 'USLV', 'RXI', 'IDOG', 'HEWG', 'UIVM', 'PTH', 'IBDP', 'HYZD', 'DTH', 'FNI', 'SPYX', 'PXMG', 'PFM', 'JKH', 'ARKG', 'VTWG', 'BAR', 'IBMH', 'AMU', 'XSD', 'FLQE', 'BWZ', 'HYEM', 'PBE', 'GQRE', 'MUNI', 'IXP', 'FXU', 'PPH', 'TAN', 'IPKW', 'CVY', 'FNDB', 'BSJM', 'RGI', 'GREK', 'DIM', 'EPOL', 'RWM', 'IAI', 'YINN', 'PDN', 'USHY', 'JUST', 'QEFA', 'GII', 'TFLO', 'IVLU', 'MXI', 'EELV', 'GAL', 'PSJ', 'EUM', 'GLDM', 'SBIO', 'QEMM', 'PSP', 'PXLG', 'FLJP', 'DBE', 'ICVT', 'PWZ', 'EWD', 'CZA', 'FNY', 'FXE', 'EXI', 'DWT', 'LTPZ', 'JKJ', 'DDWM', 'EMGF', 'RJI', 'DWLD', 'EEMS', 'CEFL', 'PSI', 'IBMJ', 'WBIH', 'IBMK', 'DOG', 'IG', 'PIZ', 'AGGP', 'KSA', 'HUSE', 'PUTW', 'GRES', 'FTGC', 'PSCF', 'PGHY', 'SMIN', 'RIGS', 'DBB', 'FDVV', 'GHYG', 'KNOW', 'EPS', 'MBG', 'JPEM', 'DMRI', 'BDCL', 'JPN', 'IEUS', 'JHSC', 'PIN', 'RING', 'FXZ', 'EDC', 'LDUR', 'VTWV', 'JPGE', 'FFTI', 'BIZD', 'RAVI', 'PIE', 'WDIV', 'ILTB', 'SIZE', 'SMB', 'SDOW', 'FMAT', 'JKK', 'LQDH', 'FSZ', 'XTN', 'FAD', 'YYY', 'HTRB', 'ELD', 'SPFF', 'UWM', 'DYLS', 'GCOW', 'JPHF', 'IBND', 'FLTB', 'EUSA', 'FGM', 'CSD', 'RYJ', 'SMLV', 'HYHG', 'DEF', 'FCVT', 'AGQ', 'AIEQ', 'XMX', 'QQQE', 'BKF', 'HYLD', 'WTMF', 'FXF', 'CUT', 'AIRR', 'FEU', 'PGJ', 'BFOR', 'FTSD', 'JPGB', 'BICK', 'EUO', 'DOO', 'SMLF', 'FEMS', 'FCOM', 'RZV', 'PIO', 'AADR', 'EUSC', 'IWL', 'NORW', 'SHYD', 'PKB', 'ROUS', 'FJP', 'CIZ', 'PTEU', 'GCC', 'ARKQ', 'PWC', 'TPYP', 'SCIF', 'FAZ', 'QLTA', 'FXC', 'KBWR', 'FTLS', 'ICLN', 'PFFD', 'RFFC', 'CURE', 'LOWC', 'XSOE', 'SCO', 'DVP', 'BCI', 'ZROZ', 'COWZ', 'UITB', 'RXL', 'UEVM', 'PZD', 'JPHY', 'EQL', 'USLB', 'IBDR', 'JXI', 'PLW', 'EPU', 'GVAL', 'KLDW', 'ENZL', 'DFNL', 'FXB', 'CATH', 'DXD', 'TOK', 'HDGE', 'RFDA', 'CDL', 'RTM', 'RUSL', 'HYUP', 'SGDM', 'CXSE', 'RLY', 'PALL', 'IMTM', 'HUSV', 'DIVC', 'WPS', 'RYU', 'MORT', 'SPHB', 'TMFC', 'IHY', 'VIXY', 'DWFI', 'PSL', 'MLN', 'XRLV', 'SOCL', 'BLOK', 'FDM', 'HYDW', 'IBDS', 'RFCI', 'MVV', 'USEQ', 'PSCI', 'OUNZ', 'UGLD', 'OUSM', 'SCIU', 'MEAR', 'EWO', 'DXJS', 'PTF', 'ADRE', 'OMFL', 'VXXB', 'CHAD', 'MINC', 'FCG', 'SYLD', 'DUSA', 'UWT', 'FXY', 'EPHE', 'XSW', 'SJB', 'BSJN', 'RTH', 'PEJ', 'TTAC', 'CHIQ', 'UCON', 'IBDC', 'BSCP', 'EWN', 'LVHB', 'PICB', 'REMX', 'JPXN', 'DUST', 'URE', 'ZIV', 'DBAW', 'CSF', 'INCO', 'DBEM', 'WBIY', 'GVIP', 'FXA', 'EIS', 'GAMR', 'EDZ', 'VMOT', 'CAPE', 'FQAL', 'EFAD', 'GSC', 'USMF', 'URTY', 'LGLV', 'PST', 'RBIN', 'PXE', 'XTL', 'GUSH', 'DBP', 'IBML', 'IDLB', 'SRET', 'QVAL', 'DGRS', 'PFIG', 'FIBR', 'RBUS', 'XMPT', 'PAVE', 'GMOM', 'NFLT', 'OCIO', 'DGL', 'BNO', 'IAK', 'JPME', 'QUS', 'OILB', 'HSRT', 'PRN', 'RFV', 'KCE', 'XHS', 'IQLT', 'GBF', 'DMRM', 'MLPC', 'MXDU', 'GNMA', 'PBW', 'DIG', 'RFEM', 'RFEU', 'PXLV', 'ACIM', 'FRI', 'ESGU', 'EWMC', 'SLX', 'DRW', 'FDMO', 'JPSE', 'FVAL', 'IVAL', 'FNGU', 'BBRE', 'TWM', 'UCI', 'PXSG', 'ULST', 'RJA', 'DEW', 'PSCC', 'RCD', 'DIAL', 'USDU', 'PWS', 'YANG', 'JETS', 'SOXS', 'PYZ', 'HAP', 'GXG', 'INKM', 'DGT', 'BLCN', 'IQDE', 'IBCD', 'QQXT', 'TMF', 'STOT', 'SNSR', 'FPEI', 'PSCD', 'FAB', 'ARGT', 'HYLV', 'PXI', 'BDCS', 'TTT', 'INDL', 'FDIV', 'PPLC', 'QCLN', 'WBII', 'BLES', 'DBLV', 'FRAK', 'FTVA', 'WBIG', 'PULS', 'BLHY', 'BRF', 'TUZ', 'DIVY', 'MOTI', 'DRIP', 'GEX', 'USL', 'BEMO', 'FEUZ', 'HSPX', 'HYXU', 'PPTY', 'CCOR', 'SMMU', 'ISHG', 'ROOF', 'DSUM', 'FDLO', 'ARCM', 'JPEU', 'GSEW', 'UGL', 'DGP', 'NUSC', 'ESGG', 'COPX', 'ENTR', 'QMOM', 'FLEE', 'VFMF', 'YCS', 'EFAX', 'NUAG', 'PBJ', 'CEMB', 'FAN', 'FFHG', 'PXSV', 'MBSD', 'MFUS', 'KOL', 'HECO', 'PSCU', 'DWTR', 'USVM', 'EUDG', 'MLPQ', 'PXQ', 'DNL', 'CRAK', 'NFO', 'DGRE', 'CJNK', 'FALN', 'EXT', 'LABD', 'XITK', 'GYLD', 'PEZ', 'BJO', 'DTYS', 'DXGE', 'ACWF', 'WBIC', 'HOLD', 'FTHI', 'AUSF', 'JDST', 'USTB', 'IQDY', 'QLC', 'IQDG', 'EEB', 'CACG', 'SRTY', 'HTUS', 'JHMD', 'PZT', 'GAA', 'KBWP', 'FYT', 'ACSI', 'SEA', 'JHMT', 'RISE', 'EIRL', 'TERM', 'IGEB', 'HAO', 'PVI', 'EQWL', 'SKOR', 'JHMH', 'ROAM', 'CHAU', 'HYND', 'IPFF', 'IBDD', 'AFK', 'ERY', 'FNGZ', 'IMOM', 'XWEB', 'HDMV', 'BSCQ', 'IBD', 'VTC', 'MIDU', 'NULG', 'DEEF', 'JHMF', 'FCOR', 'IGRO', 'AGZD', 'GURU', 'GHII', 'BCM', 'IMTB', 'RVNU', 'FEMB', 'BSJO', 'DWIN', 'SMHD', 'ZMLP', 'EMTL', 'CPI', 'RFUN', 'RWW', 'GNAF', 'REML', 'IGBH', 'KRMA', 'AAAU', 'PBS', 'GRI', 'COM', 'DINT', 'DFEN', 'DJCI', 'ADRD', 'ITEQ', 'PSCE', 'EWUS', 'ISCF', 'TIPZ', 'FRN', 'USD', 'TBX', 'EWZS', 'PREF', 'JSMD', 'CLIX', 'SLVP', 'ISMD', 'PEK', 'EWK', 'YMLP', 'JPMF', 'JPMB', 'BTEC', 'BBRC', 'NUMG', 'FNK', 'QAT', 'BMLP', 'CWEB', 'DWAQ', 'WBIE', 'EURL', 'HYGV', 'PBD', 'CNCR', 'LFEQ', 'IGN', 'EWGS', 'QXGG', 'CSB', 'LVHI', 'ISRA', 'SPMO', 'DALI', 'OGIG', 'COMB', 'SMMV', 'FILL', 'MLPY', 'FVL', 'DRSK', 'SILJ', 'FFIU', 'NULV', 'NUMV', 'UYM', 'FLJH', 'LEGR', 'GHYB', 'DTEC', 'NUBD', 'RFAP', 'IFLY', 'AGGE', 'QDYN', 'PXMV', 'MLPO', 'SGDJ', 'PRNT', 'IBCE', 'CID', 'NUDM', 'LEAD', 'GSSC', 'WBIA', 'QGTA', 'JHMC', 'UGA', 'EFZ', 'WBIF', 'HDG', 'CBND', 'FFR', 'FCEF', 'TOLZ', 'AIQ', 'DWLV', 'ENFR', 'CMDY', 'FFTG', 'SUSB', 'PUI', 'EMCB', 'NGE', 'GTO', 'IDX', 'FFSG', 'DMRS', 'WBIL', 'FNGO', 'WBIR', 'SYG', 'IDHQ', 'JSML', 'GLDI', 'TAO', 'AGND', 'BBC', 'HEWC', 'EWSC', 'CSA', 'GSP', 'PAK', 'IFEU', 'DBEZ', 'DVYL', 'DRN', 'RODI', 'IMLP', 'EFNL', 'WBID', 'EDEN', 'MRRL', 'BIBL', 'WBIB', 'LDRS', 'OILK', 'NAIL', 'EGPT', 'FXP', 'MAGA', 'WIL', 'IEMV', 'TECS', 'FPA', 'FINU', 'RSXJ', 'SYV', 'QSY', 'JHME', 'ENOR', 'FNGD', 'VFVA', 'MMTM', 'VAMO', 'DOD', 'DDIV', 'DWPP', 'QXTR', 'MPCT', 'BYLD', 'DVEM', 'BNDC', 'GOEX', 'AXJL', 'AUSE', 'BIS', 'EDOG', 'TCTL', 'DALT', 'MLPZ', 'CNYA', 'PXJ', 'DXJF', 'DPST', 'HMOP', 'OILD', 'NUEM', 'HFXJ', 'UAE', 'LSAF', 'FLEH', 'VEGI', 'FLCH', 'ETHO', 'KURE', 'JMBS', 'PFI', 'HEWY', 'SPXB', 'JPIH', 'EMCG', 'CYB', 'DVYA', 'EMIF', 'HAWX', 'OEUR', 'UMDD', 'MILN', 'SGGB', 'CHIX', 'KARS', 'LVL', 'FLBL', 'GRID', 'UDN', 'AFIF', 'SLVO', 'INXX', 'BBP', 'FWDD', 'FMHI', 'ERM', 'QWLD', 'NURE', 'FLRT', 'MMIT', 'VFMO', 'OILU', 'INFR', 'SKF', 'SHAG', 'BOIL', 'NUSA', 'RETL', 'BZQ', 'FNG', 'SAA', 'JPEH', 'HDAW', 'EEMX', 'ICOW', 'FCTR', 'XUSA', 'RUSS', 'ROBT', 'GLL', 'EEV', 'BSCR', 'JHMI', 'BNDW', 'WMCR', 'PRID', 'DBGR', 'JQUA', 'UCC', 'SMEZ', 'JMOM', 'KEMQ', 'FYLD', 'ESG', 'JMIN', 'XPP', 'ONLN', 'LMLP', 'MFDX', 'GSEU', 'HONR', 'LKOR', 'JHMS', 'PSR', 'SYE', 'GLDW', 'NLR', 'PSCM', 'KORP', 'SPDN', 'UBIO', 'PHDG', 'JPED', 'JVAL', 'XSHQ', 'CN', 'PGAL', 'CEFS', 'JDIV', 'RORE', 'FTXN', 'NIB', 'JHMU', 'TAIL', 'GASL', 'PHYL', 'GRNB', 'VLU', 'GXF', 'SPVU', 'FEUL', 'OPER', 'WBND', 'IEMD', 'MXDE', 'IMFC', 'PPMC', 'SRS', 'LSST', 'QQQC', 'FTXL', 'VALX', 'DZZ', 'DBV', 'SMCP', 'BSJP', 'PBND', 'ICOL', 'EQWM', 'BJK', 'EUMV', 'CALF', 'RNDM', 'FPXI', 'PFFL', 'PYPE', 'CEW', 'UST', 'OBOR', 'JPLS', 'ESGF', 'DUG', 'ESGL', 'ASEA', 'FLEU', 'PSET', 'ECNS', 'EVX', 'ALFA', 'DHVW', 'ZCAN', 'MLPE', 'PFFR', 'ZSL', 'FLCO', 'UXI', 'PPDM', 'YMLI', 'PSAU', 'VIXM', 'SPYB', 'EQWS', 'EET', 'DHDG', 'IZRL', 'VQT', 'EQLT', 'MVIN', 'IBMM', 'TYO', 'FLKR', 'AGT', 'DZK', 'HTAB', 'ROGS', 'UBT', 'DLBS', 'ASHS', 'DVHL', 'CIL', 'DRV', 'EPV', 'YAO', 'PAF', 'VFMV', 'CEY', 'JPMV', 'PAGG', 'OSCV', 'FCAL', 'FAAR', 'WMW', 'GSJY', 'SEF', 'KORU', 'PEX', 'TAPR', 'DDLS', 'JHMA', 'RNLC', 'ENY', 'FIDI', 'PPEM', 'YLCO', 'FLN', 'PZI', 'DGLD', 'EMDV', 'JJGB', 'SOVB', 'SPDV', 'GSD', 'FWDB', 'JPNL', 'PXR', 'SUSC', 'ADRA', 'DBS', 'FLQG', 'PLCY', 'CEZ', 'DRIV', 'DWCR', 'GENY', 'DAX', 'IPO', 'OILX', 'HYDB', 'DYB', 'ALD', 'HEWU', 'GULF', 'VEGA', 'CARZ', 'ALTY', 'FCAN', 'EYLD', 'PUW', 'DTO', 'FLQD', 'ULBR', 'HDLV', 'MMIN', 'HSCZ', 'AMJL', 'VFQY', 'FLAX', 'FMK', 'DIVO', 'FXS', 'VIIX', 'EPRF', 'DDEZ', 'FONE', 'EWRE', 'CNXT', 'VFLQ', 'VXZ', 'HEWP', 'LNGR', 'BFIT', 'ZJPN', 'SDYL', 'EMAG', 'RAAX', 'MUST', 'WTIU', 'SCIN', 'TUSA', 'FMF', 'GUDB', 'PRB', 'SOIL', 'ACT', 'CWS', 'JJCB', 'FLGB', 'DWSH', 'DSLV', 'VSGX', 'FLAG', 'PY', 'ACES', 'KNG', 'ESGV', 'ASET', 'RINF', 'LBJ', 'ESGN', 'DJD', 'EASI', 'PXUS', 'EDBI', 'XDIV', 'JHDG', 'UTES', 'TLDH', 'ADRU', 'DGZ', 'WREI', 'EMFM', 'FDTS', 'AXJV', 'UPW', 'FLM', 'FTLB', 'FID', 'DVOL', 'SMMD', 'WCHN', 'EMEM', 'EEMO', 'VSMV', 'PLND', 'FIVA', 'RGLB', 'QMN', 'MCEF', 'DVLU', 'LOUP', 'REFA', 'GARD', 'ONTL', 'BZF', 'HGSD', 'IHYD', 'RNMC', 'FDHY', 'IHYV', 'TAXF', 'LDRI', 'DRR', 'SDEM', 'EWEM', 'FWDI', 'KCNY', 'FLBR', 'OMFS', 'REEM', 'VXZB', 'ORG', 'EXIV', 'EMBH', 'CPER', 'SCID', 'BTAL', 'FLDR', 'DDBI', 'PPSC', 'MYY', 'CUMB', 'USOU', 'FLLV', 'TRTY', 'EUDV', 'BOUT', 'DBKO', 'SWIN', 'BUZ', 'CROP', 'GOAU', 'TTAI', 'FLIO', 'ESML', 'UBR', 'SLIM', 'FLHK', 'HFXE', 'OLD', 'RALS', 'FLHY', 'SFHY', 'IBDT', 'ZGBR', 'BSAE', 'KCCB', 'HYXE', 'BSBE', 'USAI', 'REK', 'LQDI', 'XSHD', 'QXMI', 'XKFS', 'MLPG', 'IGIH', 'OASI', 'AMCA', 'FBZ', 'MLQD', 'MLPB', 'PMR', 'HGI', 'LLQD', 'COMG', 'EMXC', 'EFO', 'FKU', 'SCIJ', 'EDOM', 'TPOR', 'IRBO', 'HNDL', 'CWAI', 'FCA', 'GDXX', 'ZDEU', 'EMIH', 'XVZ', 'XCEM', 'FTRI', 'EUFX', 'AFTY', 'KOLD', 'FLQS', 'CROC', 'UPV', 'EQRR', 'DEFA', 'VMIN', 'RJN', 'SMLL', 'RJZ', 'ULE', 'DIVB', 'BDCZ', 'OLO', 'VALQ', 'CNY', 'EUFL', 'BOCT', 'HIPS', 'QINT', 'GCE', 'COWB', 'EZJ', 'ALTS', 'EMSH', 'HILO', 'KOIN', 'FIEG', 'QGRO', 'FLMI', 'TLEH', 'TETF', 'VSDA', 'SPXE', 'FLMB', 'ESGW', 'POCT', 'FLQM', 'SQLV', 'JJAB', 'QXRR', 'BATT', 'WLDR', 'AMUB', 'MEXX', 'FLRU', 'MLTI', 'FMDG', 'UGE', 'SPUU', 'FANZ', 'DTUS', 'YXI', 'PPLN', 'MCRO', 'SDCI', 'LVHE', 'IIGD', 'IIGV', 'UCIB', 'DFND', 'MSUS', 'FLIN', 'BSCS', 'DEMG', 'FLAU', 'DWAT', 'TYD', 'USOI', 'LBDC', 'EMTY', 'EWV', 'HYIH', 'BKC', 'BJJN', 'BALB', 'EDOW', 'IEHS', 'BERN', 'ZHOK', 'RVRS', 'XKII', 'XKST', 'UNL', 'LVUS', 'TYBS', 'GASX', 'PMOM', 'BVAL', 'OQAL', 'DAG', 'OMOM', 'IDHD', 'IEDI', 'OVOL', 'KGRN', 'SMN', 'OSIZ', 'IEME', 'OVLU', 'ISZE', 'HEWL', 'LVIN', 'IETC', 'IDIV', 'VGFO', 'IEIH', 'OYLD', 'BOON', 'JJEB', 'LRET', 'IFIX', 'WFHY', 'BRGL', 'SCAP', 'BSJQ', 'PFFA', 'MOM', 'SFIG', 'EFAS', 'RPUT', 'DOGS', 'IGVT', 'FLIA', 'FLQH', 'BIKR', 'WYDE', 'WFIG', 'UOCT', 'DAUD', 'FLCA', 'IAUF', 'FTAG', 'SCIX', 'LRGE', 'IEFN', 'JJUB', 'FLTW', 'DUSL', 'JBRI', 'RNEM', 'BOSS', 'JHEM', 'DTYL', 'DFVS', 'CBON', 'JJMB', 'JJPB', 'ZBIO', 'FLSW', 'SDP', 'PILL', 'LALT', 'DPK', 'ESGS', 'QLS', 'RNSC', 'JJSB', 'DLBL', 'DEWJ', 'RNDV', 'DFVL', 'MIDZ', 'EVIX', 'ICAN', 'DCHF', 'JJTB', 'YLDE', 'DGBP', 'TBLU', 'QVM', 'UTSL', 'GRU', 'SDVY', 'BCD', 'SBB', 'SCTO', 'DBAP', 'DEUR', 'DJPY', 'MZZ', 'EFFE', 'UJPY', 'DTUL', 'CHGX', 'PVAL', 'HYDD', 'PJUL', 'UJUL', 'FLMX', 'PLTM', 'PGMB', 'GAZB', 'EFU', 'SRVR', 'FUD', 'IECS', 'UCHF', 'MRGR', 'FXSG', 'SSG', 'FXCH', 'AIIQ', 'GNRX', 'XTH', 'FTXD', 'UBG', 'BDRY', 'UGBP', 'FTXH', 'UDBI', 'OEW', 'FHK', 'REW', 'CHIM', 'SAGG', 'UJB', 'UBOT', 'NFTY', 'QED', 'SDD', 'BJUL', 'UAG', 'UEUR', 'FUT', 'CHIE', 'FLAT', 'HJPX', 'WDRW', 'OLEM', 'HOML', 'KFYP', 'DDJP', 'GDXS', 'YCL', 'SPVM', 'DWMC', 'PBUS', 'PSMG', 'PBSM', 'SZK', 'UAUD', 'CHII', 'PSMB', 'DEZU', 'SPXT', 'IFRA', 'EUXL', 'RTL', 'BUY', 'IDMO', 'XINA', 'WTID', 'FLLA', 'BUYN', 'SZNE', 'ISEM', 'PBTP', 'DLBR', 'ISDX', 'QDIV', 'NTSX', 'FLZA', 'TFLT', 'TFIV', 'IUS', 'INDS', 'ISDS', 'DWMF', 'RIDV', 'FLFR', 'DIVA', 'FLSA', 'WBAL', 'PBDM', 'FTXR', 'SLT', 'PEXL', 'EMMF', 'IUSS', 'HEWI', 'UTRN', 'FKO', 'AUGR', 'SIJ', 'REDV', 'QTUM', 'SMDD', 'KMED', 'PBEE', 'FLIY', 'BDD', 'EKAR', 'EEMD', 'FLGR', 'KALL', 'EURZ', 'IPOS', 'DBUK', 'GRMY', 'NACP', 'CHNA', 'SIZ', 'SBM', 'ARVR', 'WOMN', 'PRME', 'SDGA', 'BCNA', 'USV', 'FPXE', 'STPP', 'DYY', 'DDG', 'OVLC', 'FAUS', 'SZO', 'BEF', 'TYNS', 'URR', 'SPXV', 'SPXN', 'SPMV', 'GMFL', 'VETS', 'PSMM', 'PSMC', 'SCC', 'CNHX', 'CHEP', 'HAUD', 'USOD', 'VESH', 'EEH', 'FUE', 'FTXG', 'LTL', 'HEWW', 'INR', 'AGF', 'RXD', 'FINZ', 'BOM', 'BOS', 'VSL', 'LD', 'DDP', 'FRLG'), value='SPY'), Output()), _dom_classes=('widget-interact',))"
      ]
     },
     "metadata": {},
     "output_type": "display_data"
    },
    {
     "data": {
      "text/plain": [
       "<function __main__.explore>"
      ]
     },
     "execution_count": 126,
     "metadata": {},
     "output_type": "execute_result"
    }
   ],
   "source": [
    "def explore(ticker):\n",
    "    df = [i for i in full if ticker in list(i['ticker'])][0]\n",
    "    trace = go.Candlestick(x=df.reset_index()['date'],\n",
    "                           open=df['open'],\n",
    "                           high=df['high'],\n",
    "                           low=df['low'],\n",
    "                           close=df['close'])\n",
    "    layout = go.Layout(title='{} Price (USD)'.format(ticker),xaxis = dict(\n",
    "            rangeselector=dict(\n",
    "            buttons=list([\n",
    "                dict(count=1,\n",
    "                     label='1m',\n",
    "                     step='month',\n",
    "                     stepmode='backward'),\n",
    "                dict(count=6,\n",
    "                     label='6m',\n",
    "                     step='month',\n",
    "                     stepmode='backward'),\n",
    "                dict(step='all')\n",
    "            ])),\n",
    "            rangeslider = dict(\n",
    "                visible = False)))\n",
    "    inp = [trace]\n",
    "    fig = go.Figure(data=inp,layout=layout)\n",
    "    iplot(fig)\n",
    "interact(explore, ticker=etf_list)"
   ]
  },
  {
   "cell_type": "code",
   "execution_count": 161,
   "metadata": {
    "extensions": {
     "jupyter_dashboards": {
      "version": 1,
      "views": {
       "grid_default": {},
       "report_default": {
        "hidden": false
       }
      }
     }
    },
    "scrolled": false
   },
   "outputs": [
    {
     "data": {
      "application/vnd.jupyter.widget-view+json": {
       "model_id": "92d0c3bbcb1247ae83982d5ebd58c1fa",
       "version_major": 2,
       "version_minor": 0
      },
      "text/html": [
       "<p>Failed to display Jupyter Widget of type <code>VBox</code>.</p>\n",
       "<p>\n",
       "  If you're reading this message in the Jupyter Notebook or JupyterLab Notebook, it may mean\n",
       "  that the widgets JavaScript is still loading. If this message persists, it\n",
       "  likely means that the widgets JavaScript library is either not installed or\n",
       "  not enabled. See the <a href=\"https://ipywidgets.readthedocs.io/en/stable/user_install.html\">Jupyter\n",
       "  Widgets Documentation</a> for setup instructions.\n",
       "</p>\n",
       "<p>\n",
       "  If you're reading this message in another frontend (for example, a static\n",
       "  rendering on GitHub or <a href=\"https://nbviewer.jupyter.org/\">NBViewer</a>),\n",
       "  it may mean that your frontend doesn't currently support widgets.\n",
       "</p>\n"
      ],
      "text/plain": [
       "VBox(children=(HBox(children=(Dropdown(description='Color By:', options=('Groups', '1 Day return', '1 Week return', '1 Month return', '1 Year return'), value='Groups'), Dropdown(description='Group By:', options=('Segment', 'Issuer'), value='Segment'), Button(description='Clear Plots', style=ButtonStyle()))), MarketMap(colors=['#1f77b4', '#ff7f0e', '#2ca02c', '#d62728', '#9467bd', '#8c564b', '#e377c2', '#7f7f7f', '#bcbd22', '#17becf'], cols=50, font_style={'font-size': '8px', 'fill': 'black'}, groups=array(['Equity: U.S. - Large Cap', 'Equity: U.S. - Large Cap',\n",
       "       'Equity: U.S. - Total Market', ...,\n",
       "       'Commodities: Industrial Metals Lead',\n",
       "       'Inverse Commodities: Broad Market',\n",
       "       'Leveraged Equity: U.S. - Large Cap Growth'], dtype=object), layout=Layout(min_height='1100px', min_width='1500px'), map_margin={'top': 50, 'right': 50, 'left': 50, 'bottom': 50}, names=array(['SPY', 'IVV', 'VTI', ..., 'LD', 'DDP', 'FRLG'], dtype='<U4'), ref_data=     ticker                                          Fund Name  \\\n",
       "0       SPY                             SPDR S&P 500 ETF Trust   \n",
       "1       IVV                           iShares Core S&P 500 ETF   \n",
       "2       VTI                    Vanguard Total Stock Market ETF   \n",
       "3       VOO                               Vanguard S&P 500 ETF   \n",
       "4       VEA                Vanguard FTSE Developed Markets ETF   \n",
       "5       QQQ                                  Invesco QQQ Trust   \n",
       "6       EFA                              iShares MSCI EAFE ETF   \n",
       "7      IEFA                         iShares Core MSCI EAFE ETF   \n",
       "8       AGG               iShares Core U.S. Aggregate Bond ETF   \n",
       "9       VWO                 Vanguard FTSE Emerging Markets ETF   \n",
       "10      IJH                       iShares Core S&P Mid-Cap ETF   \n",
       "11      IWM                           iShares Russell 2000 ETF   \n",
       "12     IEMG             iShares Core MSCI Emerging Markets ETF   \n",
       "13      IJR                     iShares Core S&P Small Cap ETF   \n",
       "14      VTV                                 Vanguard Value ETF   \n",
       "15      IWF                    iShares Russell 1000 Growth ETF   \n",
       "16      IWD                     iShares Russell 1000 Value ETF   \n",
       "17      BND                     Vanguard Total Bond Market ETF   \n",
       "18      VUG                                Vanguard Growth ETF   \n",
       "19      LQD  iShares iBoxx USD Investment Grade Corporate B...   \n",
       "20      XLF                  Financial Select Sector SPDR Fund   \n",
       "21      VNQ                           Vanguard Real Estate ETF   \n",
       "22      VIG                 Vanguard Dividend Appreciation ETF   \n",
       "23      GLD                                    SPDR Gold Trust   \n",
       "24      EEM                  iShares MSCI Emerging Markets ETF   \n",
       "25      BSV                       Vanguard Short-Term Bond ETF   \n",
       "26      TIP                              iShares TIPS Bond ETF   \n",
       "27       VB                             Vanguard Small-Cap ETF   \n",
       "28       VO                               Vanguard Mid-Cap ETF   \n",
       "29      DIA        SPDR Dow Jones Industrial Average ETF Trust   \n",
       "...     ...                                                ...   \n",
       "2130   TYNS   Direxion Daily 7-10 Year Treasury Bear 1x Shares   \n",
       "2131    URR                Market Vectors-Double Long Euro ETN   \n",
       "2132   SPXV               ProShares S&P 500 Ex-Health Care ETF   \n",
       "2133   SPXN                ProShares S&P 500 Ex-Financials ETF   \n",
       "2134   SPMV               Invesco S&P 500 Minimum Variance ETF   \n",
       "2135   GMFL                 Invesco Multi-Factor Large Cap ETF   \n",
       "2136   VETS            Pacer Military Times Best Employers ETF   \n",
       "2137   PSMM  Invesco Moderately Conservative Multi-Asset Al...   \n",
       "2138   PSMC          Invesco Growth Multi-Asset Allocation ETF   \n",
       "2139    SCC             ProShares UltraShort Consumer Services   \n",
       "2140   CNHX         CSOP MSCI China A International Hedged ETF   \n",
       "2141   CHEP               AGFiQ U.S. Market Neutral Value Fund   \n",
       "2142   HAUD         iShares Currency Hedged MSCI Australia ETF   \n",
       "2143   USOD                    United States 3x Short Oil Fund   \n",
       "2144   VESH              Virtus Enhanced Short U.S. Equity ETF   \n",
       "2145    EEH  Elements Spectrum Large Cap US Sector Momentum...   \n",
       "2146    FUE      Elements MLCX Biofuels Index-Total Return ETN   \n",
       "2147   FTXG             First Trust Nasdaq Food & Beverage ETF   \n",
       "2148    LTL                 ProShares Ultra Telecommunications   \n",
       "2149   HEWW            iShares Currency Hedged MSCI Mexico ETF   \n",
       "2150    INR                Market Vectors-Indian Rupee/USD ETN   \n",
       "2151    AGF                            DB Agriculture Long ETN   \n",
       "2152    RXD                   ProShares UltraShort Health Care   \n",
       "2153   FINZ   ProShares UltraPro Short Financial Select Sector   \n",
       "2154    BOM                    DB Base Metals Double Short ETN   \n",
       "2155    BOS                           DB Base Metals Short ETN   \n",
       "2156    VSL                            Volshares Large Cap ETF   \n",
       "2157     LD     iPath Bloomberg Lead Subindex Total Return ETN   \n",
       "2158    DDP                             DB Commodity Short ETN   \n",
       "2159   FRLG                  Large Cap Growth Index-Linked ETN   \n",
       "\n",
       "                            Issuer Expense Ratio Total Assets spread (%)  \\\n",
       "0     State Street Global Advisors        0.0009     $261.53B          0   \n",
       "1                        BlackRock        0.0004     $155.70B     0.0001   \n",
       "2                         Vanguard        0.0004      $99.59B     0.0001   \n",
       "3                         Vanguard        0.0004      $99.04B     0.0001   \n",
       "4                         Vanguard        0.0007      $67.08B     0.0002   \n",
       "5                          Invesco         0.002      $66.54B     0.0001   \n",
       "6                        BlackRock        0.0032      $65.74B     0.0001   \n",
       "7                        BlackRock        0.0008      $56.53B     0.0002   \n",
       "8                        BlackRock        0.0005      $53.45B     0.0001   \n",
       "9                         Vanguard        0.0014      $53.41B     0.0002   \n",
       "10                       BlackRock        0.0007      $46.40B     0.0001   \n",
       "11                       BlackRock        0.0019      $46.09B     0.0001   \n",
       "12                       BlackRock        0.0014      $44.75B     0.0002   \n",
       "13                       BlackRock        0.0007      $42.52B     0.0001   \n",
       "14                        Vanguard        0.0005      $42.33B     0.0001   \n",
       "15                       BlackRock         0.002      $40.75B     0.0001   \n",
       "16                       BlackRock         0.002      $35.99B     0.0001   \n",
       "17                        Vanguard        0.0005      $35.78B     0.0001   \n",
       "18                        Vanguard        0.0005      $34.88B     0.0002   \n",
       "19                       BlackRock        0.0015      $32.14B     0.0001   \n",
       "20    State Street Global Advisors        0.0013      $29.87B     0.0004   \n",
       "21                        Vanguard        0.0012      $29.69B     0.0001   \n",
       "22                        Vanguard        0.0008      $28.93B     0.0002   \n",
       "23    State Street Global Advisors         0.004      $28.86B     0.0001   \n",
       "24                       BlackRock        0.0069      $28.21B     0.0002   \n",
       "25                        Vanguard        0.0007      $25.33B     0.0001   \n",
       "26                       BlackRock         0.002      $22.86B     0.0001   \n",
       "27                        Vanguard        0.0005      $22.79B     0.0003   \n",
       "28                        Vanguard        0.0005      $22.74B     0.0003   \n",
       "29    State Street Global Advisors        0.0017      $22.15B     0.0001   \n",
       "...                            ...           ...          ...        ...   \n",
       "2130                      Direxion        0.0048       $1.47M      0.001   \n",
       "2131                Morgan Stanley        0.0065       $1.42M       0.05   \n",
       "2132                     ProShares        0.0027       $1.41M     0.0027   \n",
       "2133                     ProShares        0.0027       $1.40M     0.0027   \n",
       "2134                       Invesco         0.001       $1.38M     0.0015   \n",
       "2135                       Invesco        0.0025       $1.32M     0.0027   \n",
       "2136               Pacer Financial         0.006       $1.31M     0.0004   \n",
       "2137                       Invesco        0.0038       $1.28M     0.0033   \n",
       "2138                       Invesco        0.0037       $1.25M     0.0031   \n",
       "2139                     ProShares        0.0095       $1.24M     0.0079   \n",
       "2140                          CSOP        0.0079       $1.19M     0.0019   \n",
       "2141                     FQF Trust        0.0187       $1.17M     0.0175   \n",
       "2142                     BlackRock        0.0052       $1.16M     0.0051   \n",
       "2143            US Commodity Funds        0.0162       $1.13M     0.0049   \n",
       "2144                        Virtus        0.0055       $1.11M     0.0112   \n",
       "2145         Swedish Export Credit        0.0075     $991.96K     0.2885   \n",
       "2146         Swedish Export Credit        0.0075     $990.51K     0.0846   \n",
       "2147                   First Trust         0.006     $956.00K     0.0102   \n",
       "2148                     ProShares        0.0095     $939.25K     0.0065   \n",
       "2149                     BlackRock        0.0053     $926.82K     0.0061   \n",
       "2150                Morgan Stanley        0.0055     $923.82K     0.1278   \n",
       "2151                 Deutsche Bank        0.0075     $908.04K     0.1499   \n",
       "2152                     ProShares        0.0095     $872.61K     0.0047   \n",
       "2153                     ProShares        0.0095     $777.88K     0.0093   \n",
       "2154                 Deutsche Bank        0.0075     $721.21K     0.4722   \n",
       "2155                 Deutsche Bank        0.0075     $646.69K     0.9995   \n",
       "2156     Whitford Asset Management        0.0065     $583.25K     0.0076   \n",
       "2157             Barclays Bank PLC         0.007     $498.55K     0.8561   \n",
       "2158                 Deutsche Bank        0.0075     $412.48K     0.8731   \n",
       "2159                 Goldman Sachs        0.0146         $NaN     0.0056   \n",
       "\n",
       "                                                Segment       date      Open  \\\n",
       "0                              Equity: U.S. - Large Cap 2018-10-12  276.7700   \n",
       "1                              Equity: U.S. - Large Cap 2018-10-12  278.8300   \n",
       "2                           Equity: U.S. - Total Market 2018-10-12  142.0000   \n",
       "3                              Equity: U.S. - Large Cap 2018-10-12  254.3900   \n",
       "4      Equity: Developed Markets Ex-U.S. - Total Market 2018-10-12   40.7400   \n",
       "5                              Equity: U.S. - Large Cap 2018-10-12  173.9900   \n",
       "6      Equity: Developed Markets Ex-U.S. - Total Market 2018-10-12   64.1118   \n",
       "7      Equity: Developed Markets Ex-U.S. - Total Market 2018-10-12   60.4100   \n",
       "8     Fixed Income: U.S. - Broad Market Investment G... 2018-10-12  104.7100   \n",
       "9               Equity: Emerging Markets - Total Market 2018-10-12   38.7100   \n",
       "10                               Equity: U.S. - Mid Cap 2018-10-12  188.5800   \n",
       "11                             Equity: U.S. - Small Cap 2018-10-12  155.5570   \n",
       "12              Equity: Emerging Markets - Total Market 2018-10-12   48.5800   \n",
       "13                             Equity: U.S. - Small Cap 2018-10-12   80.5300   \n",
       "14                       Equity: U.S. - Large Cap Value 2018-10-12  106.7300   \n",
       "15                      Equity: U.S. - Large Cap Growth 2018-10-12  146.2200   \n",
       "16                       Equity: U.S. - Large Cap Value 2018-10-12  122.0300   \n",
       "17    Fixed Income: U.S. - Broad Market Investment G... 2018-10-12   78.0200   \n",
       "18                      Equity: U.S. - Large Cap Growth 2018-10-12  151.0400   \n",
       "19      Fixed Income: U.S. - Corporate Investment Grade 2018-10-12  113.3400   \n",
       "20                              Equity: U.S. Financials 2018-10-12   26.8800   \n",
       "21                             Equity: U.S. Real Estate 2018-10-12   76.8400   \n",
       "22                          Equity: U.S. - Total Market 2018-10-12  105.1800   \n",
       "23                    Commodities: Precious Metals Gold 2018-10-12  115.5800   \n",
       "24              Equity: Emerging Markets - Total Market 2018-10-12   40.2600   \n",
       "25    Fixed Income: U.S. - Government/Credit Investm... 2018-10-12   77.8300   \n",
       "26                   Fixed Income: U.S. Government TIPS 2018-10-12  109.4500   \n",
       "27                             Equity: U.S. - Small Cap 2018-10-12  150.5500   \n",
       "28                               Equity: U.S. - Mid Cap 2018-10-12  153.6100   \n",
       "29                             Equity: U.S. - Large Cap 2018-10-12  254.3553   \n",
       "...                                                 ...        ...       ...   \n",
       "2130  Inverse Fixed Income: U.S. Government Treasury... 2018-10-12   29.3300   \n",
       "2131                           Leveraged Currency: Euro 2018-10-09   16.3750   \n",
       "2132                           Equity: U.S. - Large Cap 2018-10-12   57.8100   \n",
       "2133                           Equity: U.S. - Large Cap 2018-10-11   58.9013   \n",
       "2134                           Equity: U.S. - Large Cap 2018-10-12   29.0200   \n",
       "2135                           Equity: U.S. - Large Cap 2018-10-12   26.6900   \n",
       "2136                        Equity: U.S. - Total Market 2018-10-12   26.8200   \n",
       "2137                      Asset Allocation: Target Risk 2018-10-12   12.9500   \n",
       "2138                      Asset Allocation: Target Risk 2018-10-12   12.6000   \n",
       "2139            Inverse Equity: U.S. Consumer Cyclicals 2018-10-12   18.6900   \n",
       "2140                       Equity: China - Total Market 2018-10-12   23.9300   \n",
       "2141                     Alternatives: Absolute Returns 2018-10-12   22.6600   \n",
       "2142                   Equity: Australia - Total Market 2018-10-12   23.2600   \n",
       "2143              Inverse Commodities: Energy Crude Oil 2018-10-12    4.4154   \n",
       "2144                   Inverse Equity: U.S. - Large Cap 2018-10-12   21.5500   \n",
       "2145                           Equity: U.S. - Large Cap 2018-10-12   14.7600   \n",
       "2146                    Commodities: Agriculture Grains 2018-10-11    6.2400   \n",
       "2147                                  Equity: U.S. Food 2018-10-08   19.3800   \n",
       "2148          Leveraged Equity: U.S. Telecommunications 2018-10-12   37.3800   \n",
       "2149                      Equity: Mexico - Total Market 2018-10-12   18.4800   \n",
       "2150                             Currency: Indian Rupee 2018-10-11   38.0000   \n",
       "2151                           Commodities: Agriculture 2018-10-11    8.5000   \n",
       "2152                   Inverse Equity: U.S. Health Care 2018-10-12   24.0000   \n",
       "2153                    Inverse Equity: U.S. Financials 2018-10-12    7.9011   \n",
       "2154             Inverse Commodities: Industrial Metals 2018-10-11   11.8500   \n",
       "2155             Inverse Commodities: Industrial Metals 2018-10-12   15.1200   \n",
       "2156                           Equity: U.S. - Large Cap 2018-10-11   23.7496   \n",
       "2157                Commodities: Industrial Metals Lead 2018-10-08   40.5500   \n",
       "2158                  Inverse Commodities: Broad Market 2018-09-19   45.0300   \n",
       "2159          Leveraged Equity: U.S. - Large Cap Growth 2018-10-12  113.6000   \n",
       "\n",
       "          High       Low  Previous Close     volume  1 Day return  \\\n",
       "0     277.0900  272.3700        275.9500  183186492        -3.780   \n",
       "1     279.1400  274.3900        278.0300    7286819        -3.700   \n",
       "2     142.3168  139.4900        141.3700    7981221        -1.840   \n",
       "3     254.6400  250.2998        253.6000    7116658        -3.380   \n",
       "4      40.8434   40.1529         40.5700   34798732        -0.200   \n",
       "5     174.8600  170.9328        174.3200  102078388        -4.720   \n",
       "6      64.1400   63.1800         63.8500   66647647        -0.230   \n",
       "7      60.4400   59.5099         60.0900   12833812        -0.150   \n",
       "8     104.8699  104.6750        104.7500    5017438        -0.030   \n",
       "9      38.8000   38.2500         38.7200   28567632        -0.960   \n",
       "10    188.6800  183.9700        186.4700    3233236        -0.400   \n",
       "11    155.7600  151.8850        153.6000   53492577        -0.030   \n",
       "12     48.6900   47.9650         48.6100   24597539        -1.320   \n",
       "13     80.5955   78.4600         79.3000    5153382         0.140   \n",
       "14    106.8620  104.9400        106.2000    3564620        -0.740   \n",
       "15    146.7200  143.9600        146.1700    3303627        -3.090   \n",
       "16    122.0300  119.8400        121.2200    3568351        -0.670   \n",
       "17     78.1400   78.0100         78.0300    2365717         0.020   \n",
       "18    151.5800  148.6000        150.9500    1825467        -3.190   \n",
       "19    113.5264  113.1600        113.3200    8956697        -0.020   \n",
       "20     26.9190   26.0300         26.4300  137932962        -0.030   \n",
       "21     77.0700   75.3800         75.8200   10167920         0.200   \n",
       "22    105.3500  103.6200        104.7800    1170396        -1.030   \n",
       "23    115.7100  115.0800        115.2300   12939315         0.550   \n",
       "24     40.3600   39.7450         40.2900  116892132        -1.150   \n",
       "25     77.8700   77.8000         77.8000    1819413        -0.000   \n",
       "26    109.6350  109.4109        109.4300    1746820         0.170   \n",
       "27    151.0600  147.5300        149.2900    1234824        -0.620   \n",
       "28    153.9200  151.1600        152.9400     881798        -1.540   \n",
       "29    254.6090  249.9300        253.3000    8634402        -3.030   \n",
       "...        ...       ...             ...        ...           ...   \n",
       "2130   29.3300   29.3299         29.3300       1398         0.130   \n",
       "2131   16.3750   16.3750         16.3750        295         0.831   \n",
       "2132   57.8100   57.8100         57.8100        196         1.575   \n",
       "2133   58.9013   58.9013         58.9013         41        -0.000   \n",
       "2134   29.0200   29.0200         29.0200          0        -0.000   \n",
       "2135   26.6900   26.6100         26.6100         90        -0.000   \n",
       "2136   26.8200   26.8200         26.8200          2        -0.000   \n",
       "2137   12.9500   12.8209         12.8209        774         0.158   \n",
       "2138   12.6000   12.6000         12.6000         52        -0.000   \n",
       "2139   19.0700   18.6900         19.0700        735         0.430   \n",
       "2140   23.9300   23.7900         23.7900       1100        -0.090   \n",
       "2141   22.6600   22.4400         22.5600         30        -0.000   \n",
       "2142   23.2600   23.2600         23.2600         10        -0.000   \n",
       "2143    4.5500    4.3601          4.3601      12779         0.210   \n",
       "2144   21.5500   21.5495         21.5495        555        -0.041   \n",
       "2145   19.7500   14.7600         19.7500       1064        -1.750   \n",
       "2146    6.2800    6.2300          6.2800        699         0.030   \n",
       "2147   19.3800   19.3800         19.3800         15        -0.000   \n",
       "2148   38.3923   37.3800         38.3923         35        -0.000   \n",
       "2149   18.4800   18.4800         18.4800        102         0.230   \n",
       "2150   38.1400   38.0000         38.1400         95        -0.000   \n",
       "2151   10.6600    8.5000         10.6600       2502        -3.459   \n",
       "2152   24.1600   23.3960         24.1600       1701        -0.080   \n",
       "2153    8.6000    7.8561          8.3400       4742        -0.092   \n",
       "2154   11.8500   11.8500         11.8500         30        -0.000   \n",
       "2155   15.1200   15.1200         15.1200        250         4.430   \n",
       "2156   23.8100   23.7496         23.8100        210         1.850   \n",
       "2157   43.2400   40.2200         43.1100          1        -0.000   \n",
       "2158   45.0300   45.0300         45.0300         70        -0.000   \n",
       "2159  113.9800  109.3561        111.9000      41956        -2.590   \n",
       "\n",
       "      1 Week return  1 Month return  1 Year return  \n",
       "0            11.870          13.570        -25.862  \n",
       "1            11.900          13.618        -27.502  \n",
       "2             6.260           8.076        -12.444  \n",
       "3            10.940          12.418        -24.017  \n",
       "4             1.700           1.896          2.081  \n",
       "5             5.830           9.879        -27.676  \n",
       "6             2.560           2.810          2.596  \n",
       "7             2.520           2.920          2.959  \n",
       "8            -0.420           0.868          1.778  \n",
       "9             0.500           1.604          4.971  \n",
       "10            9.690          16.784         -8.092  \n",
       "11            8.560          16.608         -6.356  \n",
       "12            0.730           2.150          4.717  \n",
       "13            4.510           9.240         -5.869  \n",
       "14            4.780           4.469         -7.699  \n",
       "15            6.130           8.955        -20.517  \n",
       "16            5.580           5.474         -4.956  \n",
       "17           -0.260           0.676          1.592  \n",
       "18            6.310           8.936        -17.547  \n",
       "19           -0.380           1.567          3.189  \n",
       "20            1.570           1.477         -0.749  \n",
       "21            2.380           6.694          4.772  \n",
       "22            4.610           5.544        -10.636  \n",
       "23           -1.430          -1.470          7.660  \n",
       "24            0.550           1.710          4.290  \n",
       "25           -0.090           0.125          0.317  \n",
       "26           -0.160           1.428          0.499  \n",
       "27            7.900          14.745         -8.518  \n",
       "28            7.790          12.209         -6.621  \n",
       "29           11.020           7.945        -29.642  \n",
       "...             ...             ...            ...  \n",
       "2130         -0.394          -0.543         -1.427  \n",
       "2131          0.695           0.756         -0.485  \n",
       "2132          2.477           1.620        -10.354  \n",
       "2133          0.738          -0.820        -14.491  \n",
       "2134         -0.040           0.050         -3.784  \n",
       "2135          1.780           1.003            NaN  \n",
       "2136          0.660           0.782            NaN  \n",
       "2137          0.289           0.382         -0.200  \n",
       "2138          0.190           0.169         -0.172  \n",
       "2139         -1.027          -2.126          9.525  \n",
       "2140          0.860           4.035          0.469  \n",
       "2141         -0.000           0.790          4.368  \n",
       "2142          1.630           1.730         -3.036  \n",
       "2143         -0.470           0.710         16.240  \n",
       "2144         -0.447          -0.549            NaN  \n",
       "2145         -1.750           0.840         -4.000  \n",
       "2146         -0.160           0.030          1.980  \n",
       "2147         -0.000           0.278          0.582  \n",
       "2148          4.636           5.108         13.319  \n",
       "2149          0.979           0.620          1.843  \n",
       "2150         -0.880           1.860          3.691  \n",
       "2151         -1.520          -1.410          1.550  \n",
       "2152         -2.060          -1.322          9.985  \n",
       "2153         -1.276          -1.220          2.031  \n",
       "2154         -1.287          -2.670          8.150  \n",
       "2155          6.900           0.470         13.970  \n",
       "2156          1.805           1.279            NaN  \n",
       "2157          5.950          12.390         -8.111  \n",
       "2158         -0.030           3.360         10.970  \n",
       "2159         12.090          16.700            NaN  \n",
       "\n",
       "[2160 rows x 17 columns], row_groups=8, scales={'color': ColorScale()}, title='ETF Market Map', tooltip_fields=['Fund Name', 'Segment', 'Issuer', 'Expense Ratio', 'Total Assets', 'Previous Close', '1 Day return', '1 Week return', '1 Month return', '1 Year return']), Output()))"
      ]
     },
     "metadata": {},
     "output_type": "display_data"
    }
   ],
   "source": [
    "col = ColorScale()\n",
    "segments = mapframe_y['Segment'].values\n",
    "issuers = mapframe_y['Issuer'].values\n",
    "market_map1 = MarketMap(names=etf_list,      \n",
    "                       # basic data which needs to set for each map\n",
    "                       ref_data=mapframe_y, groups=segments, cols=50, row_groups=8,\n",
    "                       tooltip_fields=['Fund Name', 'Segment', 'Issuer', 'Expense Ratio', 'Total Assets', 'Previous Close', '1 Day return', '1 Week return', '1 Month return', '1 Year return'],\n",
    "                       scales={'color': col},\n",
    "                       layout={'min_width': '1500px', 'min_height': '1100px'})\n",
    "market_map1.font_style = {'font-size': '8px', 'fill':'black'}\n",
    "market_map1.title = 'ETF Market Map'\n",
    "out = Output()\n",
    "\n",
    "drop1 = Dropdown(options=['Groups', '1 Day return', '1 Week return', '1 Month return', '1 Year return'], value= 'Groups', description='Color By:', disabled=False,)\n",
    "drop2 = Dropdown(options=['Segment', 'Issuer'], value='Segment', description='Group By:', disabled=False,)\n",
    "button1 = Button(description='Clear Plots')\n",
    "selectors = HBox([drop1, drop2, button1])\n",
    "\n",
    "\n",
    "def on_d1_change(change):\n",
    "    if change['type'] == 'change' and change['name'] == 'value':\n",
    "        market_map1.color = mapframe_y[change['new']]\n",
    "        market_map1.axes = [ColorAxis(scale=col, label=change['new'], visible=True)]\n",
    "        \n",
    "def on_d2_change(change):\n",
    "    if change['type'] == 'change' and change['name'] == 'value':\n",
    "        market_map1.groups = mapframe_y[change['new']]\n",
    "        \n",
    "def on_box_change(change):\n",
    "    with out:\n",
    "        df = [i for i in full if change['new'][-1] in list(i['ticker'])][-1]\n",
    "        trace = go.Candlestick(x=df.reset_index()['date'], open=df['open'], high=df['high'], low=df['low'], close=df['close'])\n",
    "        layout = go.Layout(title='{} Price (USD)'.format(change['new'][-1]),xaxis = dict(\n",
    "                rangeselector=dict(\n",
    "                buttons=list([\n",
    "                    dict(count=1, label='1m', step='month', stepmode='backward'),\n",
    "                    dict(count=6, label='6m', step='month', stepmode='backward'),\n",
    "                    dict(step='all')\n",
    "                ])),\n",
    "                rangeslider = dict(visible = False)))\n",
    "        inp = [trace]\n",
    "        fig = go.Figure(data=inp,layout=layout)\n",
    "        iplot(fig)\n",
    "    \n",
    "def clear_plots(click):\n",
    "    out.clear_output()\n",
    "    \n",
    "drop1.observe(on_d1_change)\n",
    "drop2.observe(on_d2_change)\n",
    "button1.on_click(clear_plots)\n",
    "market_map1.observe(on_box_change, 'selected')\n",
    "first_page = VBox([selectors, market_map1, out])\n",
    "first_page"
   ]
  },
  {
   "cell_type": "code",
   "execution_count": null,
   "metadata": {
    "extensions": {
     "jupyter_dashboards": {
      "version": 1,
      "views": {
       "grid_default": {},
       "report_default": {
        "hidden": true
       }
      }
     }
    }
   },
   "outputs": [],
   "source": []
  }
 ],
 "metadata": {
  "extensions": {
   "jupyter_dashboards": {
    "activeView": "report_default",
    "version": 1,
    "views": {
     "grid_default": {
      "cellMargin": 10,
      "defaultCellHeight": 20,
      "maxColumns": 12,
      "name": "grid",
      "type": "grid"
     },
     "report_default": {
      "name": "report",
      "type": "report"
     }
    }
   }
  },
  "kernelspec": {
   "display_name": "Python 3",
   "language": "python",
   "name": "python3"
  },
  "language_info": {
   "codemirror_mode": {
    "name": "ipython",
    "version": 3
   },
   "file_extension": ".py",
   "mimetype": "text/x-python",
   "name": "python",
   "nbconvert_exporter": "python",
   "pygments_lexer": "ipython3",
   "version": "3.6.6"
  }
 },
 "nbformat": 4,
 "nbformat_minor": 2
}
